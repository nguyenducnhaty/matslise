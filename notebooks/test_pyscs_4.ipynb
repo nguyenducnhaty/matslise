{
 "cells": [
  {
   "cell_type": "code",
   "execution_count": 1,
   "metadata": {
    "ExecuteTime": {
     "end_time": "2019-04-09T12:01:28.571889Z",
     "start_time": "2019-04-09T12:01:28.565008Z"
    }
   },
   "outputs": [],
   "source": [
    "import pyslise as ps"
   ]
  },
  {
   "cell_type": "code",
   "execution_count": 2,
   "metadata": {
    "ExecuteTime": {
     "end_time": "2019-04-09T12:01:29.507751Z",
     "start_time": "2019-04-09T12:01:29.113486Z"
    }
   },
   "outputs": [],
   "source": [
    "def getErrorF(scs, backward=False):\n",
    "    return lambda E: matrix(\n",
    "        scs.propagate(\n",
    "            E,\n",
    "            (matrix.zero(4,4), matrix.identity(4,4)),\n",
    "            1 if backward else .1,\n",
    "            .1 if backward else 1\n",
    "        )[0][0]).det()\n",
    "\n",
    "def V(x):\n",
    "    return [[cos(x)/max(i, j) + (1/x^i if i == j else 0) for j in [1..4]] for i in [1..4]]\n",
    "\n",
    "intervals = [(14,16),(16,19),(21,22),(26,28),(50,54),(54,58),(64,70), (84, 86)]\n",
    "\n",
    "def find_eigenvalues(scs, **kwargs):    \n",
    "    eigs = []\n",
    "    for (a, b) in intervals:\n",
    "        try:\n",
    "            eigs.append(find_root(getErrorF(scs, **kwargs), a, b))\n",
    "        except:\n",
    "            eigs.append(NaN)\n",
    "    return eigs\n",
    "\n",
    "scs = ps.Pyscs(V, 4, 0.1, 1, 128)\n",
    "eigenvalues = find_eigenvalues(scs)\n",
    "\n",
    "def calculate_errors(scs, **kwargs):\n",
    "    return [RDF(abs(c-e)) for c, e in zip(find_eigenvalues(scs, **kwargs), eigenvalues)]"
   ]
  },
  {
   "cell_type": "code",
   "execution_count": 3,
   "metadata": {
    "ExecuteTime": {
     "end_time": "2019-04-09T12:01:30.508720Z",
     "start_time": "2019-04-09T12:01:30.029881Z"
    }
   },
   "outputs": [
    {
     "data": {
      "text/html": [
       "<div class=\"notruncate\">\n",
       "<table  class=\"table_form\">\n",
       "<tbody>\n",
       "<tr class =\"row-a\">\n",
       "<td><script type=\"math/tex\">0.5211418873467384</script></td>\n",
       "<td><script type=\"math/tex\">0.07277172063660586</script></td>\n",
       "<td><script type=\"math/tex\">0.0005061164964601517</script></td>\n",
       "<td><script type=\"math/tex\">1.873260247364783 \\times 10^{-06}</script></td>\n",
       "<td><script type=\"math/tex\">1.0690861529383255 \\times 10^{-09}</script></td>\n",
       "<td><script type=\"math/tex\">4.476419235288631 \\times 10^{-13}</script></td>\n",
       "<td><script type=\"math/tex\">7.105427357601002 \\times 10^{-15}</script></td>\n",
       "</tr>\n",
       "<tr class =\"row-b\">\n",
       "<td><script type=\"math/tex\">NaN</script></td>\n",
       "<td><script type=\"math/tex\">0.4263833905893861</script></td>\n",
       "<td><script type=\"math/tex\">0.0044029225581923015</script></td>\n",
       "<td><script type=\"math/tex\">7.390063888834675 \\times 10^{-06}</script></td>\n",
       "<td><script type=\"math/tex\">1.5193378999356355 \\times 10^{-08}</script></td>\n",
       "<td><script type=\"math/tex\">1.5763390592837823 \\times 10^{-11}</script></td>\n",
       "<td><script type=\"math/tex\">1.4210854715202004 \\times 10^{-14}</script></td>\n",
       "</tr>\n",
       "<tr class =\"row-a\">\n",
       "<td><script type=\"math/tex\">NaN</script></td>\n",
       "<td><script type=\"math/tex\">NaN</script></td>\n",
       "<td><script type=\"math/tex\">0.1794957615953372</script></td>\n",
       "<td><script type=\"math/tex\">0.0005539712187463408</script></td>\n",
       "<td><script type=\"math/tex\">8.783045579718873 \\times 10^{-07}</script></td>\n",
       "<td><script type=\"math/tex\">9.720828586523567 \\times 10^{-10}</script></td>\n",
       "<td><script type=\"math/tex\">9.521272659185342 \\times 10^{-13}</script></td>\n",
       "</tr>\n",
       "<tr class =\"row-b\">\n",
       "<td><script type=\"math/tex\">NaN</script></td>\n",
       "<td><script type=\"math/tex\">NaN</script></td>\n",
       "<td><script type=\"math/tex\">NaN</script></td>\n",
       "<td><script type=\"math/tex\">0.007341623888407867</script></td>\n",
       "<td><script type=\"math/tex\">4.477218642051639 \\times 10^{-06}</script></td>\n",
       "<td><script type=\"math/tex\">3.4822313921267778 \\times 10^{-09}</script></td>\n",
       "<td><script type=\"math/tex\">3.2009950245992513 \\times 10^{-12}</script></td>\n",
       "</tr>\n",
       "<tr class =\"row-a\">\n",
       "<td><script type=\"math/tex\">0.5229529805678084</script></td>\n",
       "<td><script type=\"math/tex\">NaN</script></td>\n",
       "<td><script type=\"math/tex\">0.0012723223318289456</script></td>\n",
       "<td><script type=\"math/tex\">5.033062670634081 \\times 10^{-06}</script></td>\n",
       "<td><script type=\"math/tex\">5.4784266012575245 \\times 10^{-09}</script></td>\n",
       "<td><script type=\"math/tex\">4.11404244005098 \\times 10^{-12}</script></td>\n",
       "<td><script type=\"math/tex\">2.1316282072803006 \\times 10^{-14}</script></td>\n",
       "</tr>\n",
       "<tr class =\"row-b\">\n",
       "<td><script type=\"math/tex\">0.622532149715525</script></td>\n",
       "<td><script type=\"math/tex\">0.36969602344355224</script></td>\n",
       "<td><script type=\"math/tex\">0.015258152396512514</script></td>\n",
       "<td><script type=\"math/tex\">5.042738146698866 \\times 10^{-05}</script></td>\n",
       "<td><script type=\"math/tex\">7.820744230002674 \\times 10^{-08}</script></td>\n",
       "<td><script type=\"math/tex\">7.280931413333747 \\times 10^{-11}</script></td>\n",
       "<td><script type=\"math/tex\">7.815970093361102 \\times 10^{-14}</script></td>\n",
       "</tr>\n",
       "<tr class =\"row-a\">\n",
       "<td><script type=\"math/tex\">NaN</script></td>\n",
       "<td><script type=\"math/tex\">0.24449558028622675</script></td>\n",
       "<td><script type=\"math/tex\">0.8991879061696437</script></td>\n",
       "<td><script type=\"math/tex\">0.00403062422384437</script></td>\n",
       "<td><script type=\"math/tex\">6.849344558190751 \\times 10^{-06}</script></td>\n",
       "<td><script type=\"math/tex\">7.707555482738826 \\times 10^{-09}</script></td>\n",
       "<td><script type=\"math/tex\">7.702283255639486 \\times 10^{-12}</script></td>\n",
       "</tr>\n",
       "<tr class =\"row-b\">\n",
       "<td><script type=\"math/tex\">NaN</script></td>\n",
       "<td><script type=\"math/tex\">NaN</script></td>\n",
       "<td><script type=\"math/tex\">NaN</script></td>\n",
       "<td><script type=\"math/tex\">0.07064155268732009</script></td>\n",
       "<td><script type=\"math/tex\">4.5762741251564876 \\times 10^{-05}</script></td>\n",
       "<td><script type=\"math/tex\">3.590199071368261 \\times 10^{-08}</script></td>\n",
       "<td><script type=\"math/tex\">3.33528760165791 \\times 10^{-11}</script></td>\n",
       "</tr>\n",
       "</tbody>\n",
       "</table>\n",
       "</div>"
      ],
      "text/plain": [
       "  0.5211418873467384   0.07277172063660586   0.0005061164964601517   1.873260247364783e-06   1.0690861529383255e-09   4.476419235288631e-13    7.105427357601002e-15\n",
       "  NaN                  0.4263833905893861    0.0044029225581923015   7.390063888834675e-06   1.5193378999356355e-08   1.5763390592837823e-11   1.4210854715202004e-14\n",
       "  NaN                  NaN                   0.1794957615953372      0.0005539712187463408   8.783045579718873e-07    9.720828586523567e-10    9.521272659185342e-13\n",
       "  NaN                  NaN                   NaN                     0.007341623888407867    4.477218642051639e-06    3.4822313921267778e-09   3.2009950245992513e-12\n",
       "  0.5229529805678084   NaN                   0.0012723223318289456   5.033062670634081e-06   5.4784266012575245e-09   4.11404244005098e-12     2.1316282072803006e-14\n",
       "  0.622532149715525    0.36969602344355224   0.015258152396512514    5.042738146698866e-05   7.820744230002674e-08    7.280931413333747e-11    7.815970093361102e-14\n",
       "  NaN                  0.24449558028622675   0.8991879061696437      0.00403062422384437     6.849344558190751e-06    7.707555482738826e-09    7.702283255639486e-12\n",
       "  NaN                  NaN                   NaN                     0.07064155268732009     4.5762741251564876e-05   3.590199071368261e-08    3.33528760165791e-11"
      ]
     },
     "metadata": {},
     "output_type": "display_data"
    },
    {
     "data": {
      "text/html": [
       "<div class=\"notruncate\">\n",
       "<table  class=\"table_form\">\n",
       "<tbody>\n",
       "<tr class =\"row-a\">\n",
       "<td><script type=\"math/tex\">2.840226389873983</script></td>\n",
       "<td><script type=\"math/tex\">7.167764613805458</script></td>\n",
       "<td><script type=\"math/tex\">8.077774344850752</script></td>\n",
       "<td><script type=\"math/tex\">10.77495751000953</script></td>\n",
       "<td><script type=\"math/tex\">11.221745340687901</script></td>\n",
       "<td><script type=\"math/tex\">5.977279923499916</script></td>\n",
       "</tr>\n",
       "<tr class =\"row-b\">\n",
       "<td><script type=\"math/tex\">NaN</script></td>\n",
       "<td><script type=\"math/tex\">6.5975459606529165</script></td>\n",
       "<td><script type=\"math/tex\">9.21865891712709</script></td>\n",
       "<td><script type=\"math/tex\">8.926000266507842</script></td>\n",
       "<td><script type=\"math/tex\">9.912649163209922</script></td>\n",
       "<td><script type=\"math/tex\">10.115368837820224</script></td>\n",
       "</tr>\n",
       "<tr class =\"row-a\">\n",
       "<td><script type=\"math/tex\">NaN</script></td>\n",
       "<td><script type=\"math/tex\">NaN</script></td>\n",
       "<td><script type=\"math/tex\">8.339923039149076</script></td>\n",
       "<td><script type=\"math/tex\">9.300874017841545</script></td>\n",
       "<td><script type=\"math/tex\">9.81942628343059</script></td>\n",
       "<td><script type=\"math/tex\">9.995709152557298</script></td>\n",
       "</tr>\n",
       "<tr class =\"row-b\">\n",
       "<td><script type=\"math/tex\">NaN</script></td>\n",
       "<td><script type=\"math/tex\">NaN</script></td>\n",
       "<td><script type=\"math/tex\">NaN</script></td>\n",
       "<td><script type=\"math/tex\">10.67928071865341</script></td>\n",
       "<td><script type=\"math/tex\">10.328374985325718</script></td>\n",
       "<td><script type=\"math/tex\">10.087275922569518</script></td>\n",
       "</tr>\n",
       "<tr class =\"row-a\">\n",
       "<td><script type=\"math/tex\">NaN</script></td>\n",
       "<td><script type=\"math/tex\">NaN</script></td>\n",
       "<td><script type=\"math/tex\">7.981811933786052</script></td>\n",
       "<td><script type=\"math/tex\">9.843459234669027</script></td>\n",
       "<td><script type=\"math/tex\">10.37898922009837</script></td>\n",
       "<td><script type=\"math/tex\">7.592457037268081</script></td>\n",
       "</tr>\n",
       "<tr class =\"row-b\">\n",
       "<td><script type=\"math/tex\">0.7518088193043981</script></td>\n",
       "<td><script type=\"math/tex\">4.5986873430634825</script></td>\n",
       "<td><script type=\"math/tex\">8.241157249362777</script></td>\n",
       "<td><script type=\"math/tex\">9.332685694954524</script></td>\n",
       "<td><script type=\"math/tex\">10.068967168030863</script></td>\n",
       "<td><script type=\"math/tex\">9.863482356630719</script></td>\n",
       "</tr>\n",
       "<tr class =\"row-a\">\n",
       "<td><script type=\"math/tex\">NaN</script></td>\n",
       "<td><script type=\"math/tex\">-1.8788142458285955</script></td>\n",
       "<td><script type=\"math/tex\">7.801475534991348</script></td>\n",
       "<td><script type=\"math/tex\">9.200821633996549</script></td>\n",
       "<td><script type=\"math/tex\">9.795476852356805</script></td>\n",
       "<td><script type=\"math/tex\">9.966771474251358</script></td>\n",
       "</tr>\n",
       "<tr class =\"row-b\">\n",
       "<td><script type=\"math/tex\">NaN</script></td>\n",
       "<td><script type=\"math/tex\">NaN</script></td>\n",
       "<td><script type=\"math/tex\">NaN</script></td>\n",
       "<td><script type=\"math/tex\">10.592127864012621</script></td>\n",
       "<td><script type=\"math/tex\">10.315893917168731</script></td>\n",
       "<td><script type=\"math/tex\">10.072036956006546</script></td>\n",
       "</tr>\n",
       "</tbody>\n",
       "</table>\n",
       "</div>"
      ],
      "text/plain": [
       "  2.840226389873983    7.167764613805458     8.077774344850752   10.77495751000953    11.221745340687901   5.977279923499916\n",
       "  NaN                  6.5975459606529165    9.21865891712709    8.926000266507842    9.912649163209922    10.115368837820224\n",
       "  NaN                  NaN                   8.339923039149076   9.300874017841545    9.81942628343059     9.995709152557298\n",
       "  NaN                  NaN                   NaN                 10.67928071865341    10.328374985325718   10.087275922569518\n",
       "  NaN                  NaN                   7.981811933786052   9.843459234669027    10.37898922009837    7.592457037268081\n",
       "  0.7518088193043981   4.5986873430634825    8.241157249362777   9.332685694954524    10.068967168030863   9.863482356630719\n",
       "  NaN                  -1.8788142458285955   7.801475534991348   9.200821633996549    9.795476852356805    9.966771474251358\n",
       "  NaN                  NaN                   NaN                 10.592127864012621   10.315893917168731   10.072036956006546"
      ]
     },
     "metadata": {},
     "output_type": "display_data"
    }
   ],
   "source": [
    "data = [calculate_errors(ps.Pyscs(V, 4, 0.1, 1, 2^k)) for k in [0 .. 6]]\n",
    "data = zip(*data)\n",
    "show(table(data))\n",
    "steps = []\n",
    "for r in data:\n",
    "    steps.append([])\n",
    "    for i in range(1, len(r)):\n",
    "        steps[-1].append(RDF(log(r[i-1]/r[i])/log(2)))\n",
    "show(table(steps))"
   ]
  },
  {
   "cell_type": "code",
   "execution_count": 4,
   "metadata": {
    "ExecuteTime": {
     "end_time": "2019-04-09T12:01:52.458226Z",
     "start_time": "2019-04-09T12:01:51.930974Z"
    }
   },
   "outputs": [
    {
     "data": {
      "text/html": [
       "<div class=\"notruncate\">\n",
       "<table  class=\"table_form\">\n",
       "<tbody>\n",
       "<tr class =\"row-a\">\n",
       "<td><script type=\"math/tex\">0.5211418870699625</script></td>\n",
       "<td><script type=\"math/tex\">0.07277172063619908</script></td>\n",
       "<td><script type=\"math/tex\">0.0005061164965738385</script></td>\n",
       "<td><script type=\"math/tex\">1.873260213614003 \\times 10^{-06}</script></td>\n",
       "<td><script type=\"math/tex\">1.0678906647854092 \\times 10^{-09}</script></td>\n",
       "<td><script type=\"math/tex\">4.263256414560601 \\times 10^{-13}</script></td>\n",
       "<td><script type=\"math/tex\">1.7763568394002505 \\times 10^{-15}</script></td>\n",
       "</tr>\n",
       "<tr class =\"row-b\">\n",
       "<td><script type=\"math/tex\">1.7515651496798235</script></td>\n",
       "<td><script type=\"math/tex\">0.4263833905895247</script></td>\n",
       "<td><script type=\"math/tex\">0.004402922557478206</script></td>\n",
       "<td><script type=\"math/tex\">7.3900639030455295 \\times 10^{-06}</script></td>\n",
       "<td><script type=\"math/tex\">1.5193428737347858 \\times 10^{-08}</script></td>\n",
       "<td><script type=\"math/tex\">1.574207431076502 \\times 10^{-11}</script></td>\n",
       "<td><script type=\"math/tex\">3.552713678800501 \\times 10^{-15}</script></td>\n",
       "</tr>\n",
       "<tr class =\"row-a\">\n",
       "<td><script type=\"math/tex\">0.3804199913637696</script></td>\n",
       "<td><script type=\"math/tex\">NaN</script></td>\n",
       "<td><script type=\"math/tex\">0.17949576159525193</script></td>\n",
       "<td><script type=\"math/tex\">0.0005539712187356827</script></td>\n",
       "<td><script type=\"math/tex\">8.783045437610326 \\times 10^{-07}</script></td>\n",
       "<td><script type=\"math/tex\">9.72075753224999 \\times 10^{-10}</script></td>\n",
       "<td><script type=\"math/tex\">9.308109838457312 \\times 10^{-13}</script></td>\n",
       "</tr>\n",
       "<tr class =\"row-b\">\n",
       "<td><script type=\"math/tex\">0.02208021287907158</script></td>\n",
       "<td><script type=\"math/tex\">NaN</script></td>\n",
       "<td><script type=\"math/tex\">NaN</script></td>\n",
       "<td><script type=\"math/tex\">0.007341623888400761</script></td>\n",
       "<td><script type=\"math/tex\">4.477218645604353 \\times 10^{-06}</script></td>\n",
       "<td><script type=\"math/tex\">3.4822207339857414 \\times 10^{-09}</script></td>\n",
       "<td><script type=\"math/tex\">3.2009950245992513 \\times 10^{-12}</script></td>\n",
       "</tr>\n",
       "<tr class =\"row-a\">\n",
       "<td><script type=\"math/tex\">0.5229529804932938</script></td>\n",
       "<td><script type=\"math/tex\">NaN</script></td>\n",
       "<td><script type=\"math/tex\">0.0012723223318431565</script></td>\n",
       "<td><script type=\"math/tex\">5.033062720372072 \\times 10^{-06}</script></td>\n",
       "<td><script type=\"math/tex\">5.478412390402809 \\times 10^{-09}</script></td>\n",
       "<td><script type=\"math/tex\">4.142464149481384 \\times 10^{-12}</script></td>\n",
       "<td><script type=\"math/tex\">2.842170943040401 \\times 10^{-14}</script></td>\n",
       "</tr>\n",
       "<tr class =\"row-b\">\n",
       "<td><script type=\"math/tex\">0.6225321497169105</script></td>\n",
       "<td><script type=\"math/tex\">0.36969602344356645</script></td>\n",
       "<td><script type=\"math/tex\">0.015258152396476987</script></td>\n",
       "<td><script type=\"math/tex\">5.042738145277781 \\times 10^{-05}</script></td>\n",
       "<td><script type=\"math/tex\">7.820715097750508 \\times 10^{-08}</script></td>\n",
       "<td><script type=\"math/tex\">7.275247071447666 \\times 10^{-11}</script></td>\n",
       "<td><script type=\"math/tex\">5.684341886080802 \\times 10^{-14}</script></td>\n",
       "</tr>\n",
       "<tr class =\"row-a\">\n",
       "<td><script type=\"math/tex\">3.494424230148809</script></td>\n",
       "<td><script type=\"math/tex\">0.24449558028686624</script></td>\n",
       "<td><script type=\"math/tex\">0.8991879061691463</script></td>\n",
       "<td><script type=\"math/tex\">0.00403062422384437</script></td>\n",
       "<td><script type=\"math/tex\">6.849344515558187 \\times 10^{-06}</script></td>\n",
       "<td><script type=\"math/tex\">7.707527061029396 \\times 10^{-09}</script></td>\n",
       "<td><script type=\"math/tex\">7.688072400924284 \\times 10^{-12}</script></td>\n",
       "</tr>\n",
       "<tr class =\"row-b\">\n",
       "<td><script type=\"math/tex\">NaN</script></td>\n",
       "<td><script type=\"math/tex\">NaN</script></td>\n",
       "<td><script type=\"math/tex\">NaN</script></td>\n",
       "<td><script type=\"math/tex\">0.0706415526872064</script></td>\n",
       "<td><script type=\"math/tex\">4.576274135104086 \\times 10^{-05}</script></td>\n",
       "<td><script type=\"math/tex\">3.590194808111846 \\times 10^{-08}</script></td>\n",
       "<td><script type=\"math/tex\">3.33244543071487 \\times 10^{-11}</script></td>\n",
       "</tr>\n",
       "</tbody>\n",
       "</table>\n",
       "</div>"
      ],
      "text/plain": [
       "  0.5211418870699625    0.07277172063619908   0.0005061164965738385   1.873260213614003e-06    1.0678906647854092e-09   4.263256414560601e-13    1.7763568394002505e-15\n",
       "  1.7515651496798235    0.4263833905895247    0.004402922557478206    7.3900639030455295e-06   1.5193428737347858e-08   1.574207431076502e-11    3.552713678800501e-15\n",
       "  0.3804199913637696    NaN                   0.17949576159525193     0.0005539712187356827    8.783045437610326e-07    9.72075753224999e-10     9.308109838457312e-13\n",
       "  0.02208021287907158   NaN                   NaN                     0.007341623888400761     4.477218645604353e-06    3.4822207339857414e-09   3.2009950245992513e-12\n",
       "  0.5229529804932938    NaN                   0.0012723223318431565   5.033062720372072e-06    5.478412390402809e-09    4.142464149481384e-12    2.842170943040401e-14\n",
       "  0.6225321497169105    0.36969602344356645   0.015258152396476987    5.042738145277781e-05    7.820715097750508e-08    7.275247071447666e-11    5.684341886080802e-14\n",
       "  3.494424230148809     0.24449558028686624   0.8991879061691463      0.00403062422384437      6.849344515558187e-06    7.707527061029396e-09    7.688072400924284e-12\n",
       "  NaN                   NaN                   NaN                     0.0706415526872064       4.576274135104086e-05    3.590194808111846e-08    3.33244543071487e-11"
      ]
     },
     "metadata": {},
     "output_type": "display_data"
    },
    {
     "data": {
      "text/html": [
       "<div class=\"notruncate\">\n",
       "<table  class=\"table_form\">\n",
       "<tbody>\n",
       "<tr class =\"row-a\">\n",
       "<td><script type=\"math/tex\">2.8402263891158386</script></td>\n",
       "<td><script type=\"math/tex\">7.167764613473328</script></td>\n",
       "<td><script type=\"math/tex\">8.077774371168047</script></td>\n",
       "<td><script type=\"math/tex\">10.776571656893868</script></td>\n",
       "<td><script type=\"math/tex\">11.290520495701733</script></td>\n",
       "<td><script type=\"math/tex\">7.906890595608519</script></td>\n",
       "</tr>\n",
       "<tr class =\"row-b\">\n",
       "<td><script type=\"math/tex\">2.0384215050378813</script></td>\n",
       "<td><script type=\"math/tex\">6.597545960887371</script></td>\n",
       "<td><script type=\"math/tex\">9.218658914118848</script></td>\n",
       "<td><script type=\"math/tex\">8.925995546393512</script></td>\n",
       "<td><script type=\"math/tex\">9.914606112432784</script></td>\n",
       "<td><script type=\"math/tex\">12.113416611485945</script></td>\n",
       "</tr>\n",
       "<tr class =\"row-a\">\n",
       "<td><script type=\"math/tex\">NaN</script></td>\n",
       "<td><script type=\"math/tex\">NaN</script></td>\n",
       "<td><script type=\"math/tex\">8.339923039176147</script></td>\n",
       "<td><script type=\"math/tex\">9.300874041156408</script></td>\n",
       "<td><script type=\"math/tex\">9.81943680548766</script></td>\n",
       "<td><script type=\"math/tex\">10.028364796077929</script></td>\n",
       "</tr>\n",
       "<tr class =\"row-b\">\n",
       "<td><script type=\"math/tex\">NaN</script></td>\n",
       "<td><script type=\"math/tex\">NaN</script></td>\n",
       "<td><script type=\"math/tex\">NaN</script></td>\n",
       "<td><script type=\"math/tex\">10.679280717507224</script></td>\n",
       "<td><script type=\"math/tex\">10.328379402165222</script></td>\n",
       "<td><script type=\"math/tex\">10.087271506874805</script></td>\n",
       "</tr>\n",
       "<tr class =\"row-a\">\n",
       "<td><script type=\"math/tex\">NaN</script></td>\n",
       "<td><script type=\"math/tex\">NaN</script></td>\n",
       "<td><script type=\"math/tex\">7.981811919545091</script></td>\n",
       "<td><script type=\"math/tex\">9.843462991233466</script></td>\n",
       "<td><script type=\"math/tex\">10.369052942579746</script></td>\n",
       "<td><script type=\"math/tex\">7.187352073200496</script></td>\n",
       "</tr>\n",
       "<tr class =\"row-b\">\n",
       "<td><script type=\"math/tex\">0.7518088193075538</script></td>\n",
       "<td><script type=\"math/tex\">4.5986873430668975</script></td>\n",
       "<td><script type=\"math/tex\">8.241157249765982</script></td>\n",
       "<td><script type=\"math/tex\">9.332691068593292</script></td>\n",
       "<td><script type=\"math/tex\">10.070088569433526</script></td>\n",
       "<td><script type=\"math/tex\">10.321787199820022</script></td>\n",
       "</tr>\n",
       "<tr class =\"row-a\">\n",
       "<td><script type=\"math/tex\">3.8371744738494407</script></td>\n",
       "<td><script type=\"math/tex\">-1.8788142458240242</script></td>\n",
       "<td><script type=\"math/tex\">7.80147553499055</script></td>\n",
       "<td><script type=\"math/tex\">9.200821642976356</script></td>\n",
       "<td><script type=\"math/tex\">9.795482163343223</script></td>\n",
       "<td><script type=\"math/tex\">9.96943041181219</script></td>\n",
       "</tr>\n",
       "<tr class =\"row-b\">\n",
       "<td><script type=\"math/tex\">NaN</script></td>\n",
       "<td><script type=\"math/tex\">NaN</script></td>\n",
       "<td><script type=\"math/tex\">NaN</script></td>\n",
       "<td><script type=\"math/tex\">10.592127860874266</script></td>\n",
       "<td><script type=\"math/tex\">10.315895633463956</script></td>\n",
       "<td><script type=\"math/tex\">10.073265161967784</script></td>\n",
       "</tr>\n",
       "</tbody>\n",
       "</table>\n",
       "</div>"
      ],
      "text/plain": [
       "  2.8402263891158386   7.167764613473328     8.077774371168047   10.776571656893868   11.290520495701733   7.906890595608519\n",
       "  2.0384215050378813   6.597545960887371     9.218658914118848   8.925995546393512    9.914606112432784    12.113416611485945\n",
       "  NaN                  NaN                   8.339923039176147   9.300874041156408    9.81943680548766     10.028364796077929\n",
       "  NaN                  NaN                   NaN                 10.679280717507224   10.328379402165222   10.087271506874805\n",
       "  NaN                  NaN                   7.981811919545091   9.843462991233466    10.369052942579746   7.187352073200496\n",
       "  0.7518088193075538   4.5986873430668975    8.241157249765982   9.332691068593292    10.070088569433526   10.321787199820022\n",
       "  3.8371744738494407   -1.8788142458240242   7.80147553499055    9.200821642976356    9.795482163343223    9.96943041181219\n",
       "  NaN                  NaN                   NaN                 10.592127860874266   10.315895633463956   10.073265161967784"
      ]
     },
     "metadata": {},
     "output_type": "display_data"
    }
   ],
   "source": [
    "data = [calculate_errors(ps.Pyscs(V, 4, .1, 1, 2^k), backward=True) for k in [0 .. 6]]\n",
    "data = zip(*data)\n",
    "show(table(data))\n",
    "steps = []\n",
    "for r in data:\n",
    "    steps.append([])\n",
    "    for i in range(1, len(r)):\n",
    "        steps[-1].append(RDF(log(r[i-1]/r[i])/log(2)))\n",
    "show(table(steps))"
   ]
  },
  {
   "cell_type": "code",
   "execution_count": 5,
   "metadata": {
    "ExecuteTime": {
     "end_time": "2019-04-09T12:01:55.684006Z",
     "start_time": "2019-04-09T12:01:55.348233Z"
    }
   },
   "outputs": [
    {
     "data": {
      "image/png": "[encoded data removed]",
      "text/plain": [
       "Graphics object consisting of 1 graphics primitive"
      ]
     },
     "execution_count": 5,
     "metadata": {},
     "output_type": "execute_result"
    }
   ],
   "source": [
    "scs = ps.Pyscs(V, 4, 0.1, 1, 5)\n",
    "plot(lambda E: matrix(RDF, scs.propagate(E, [matrix.zero(4), matrix.identity(4)], .1, 1)[0][0])[0,0],\n",
    "     (0, 100))"
   ]
  },
  {
   "cell_type": "code",
   "execution_count": 7,
   "metadata": {
    "ExecuteTime": {
     "end_time": "2019-04-09T12:02:09.599784Z",
     "start_time": "2019-04-09T12:02:09.236232Z"
    }
   },
   "outputs": [
    {
     "data": {
      "image/png": "[encoded data removed]",
      "text/plain": [
       "Graphics object consisting of 2 graphics primitives"
      ]
     },
     "execution_count": 7,
     "metadata": {},
     "output_type": "execute_result"
    }
   ],
   "source": [
    "scs = ps.Pyscs(V, 4, 0.1, 1, 5)\n",
    "s = 1\n",
    "e = .1\n",
    "h = 1\n",
    "(plot(lambda E: \n",
    "     matrix(RDF,\n",
    "            scs.propagate(\n",
    "                E,\n",
    "                [matrix.zero(4), matrix.identity(4)],\n",
    "                s, e)[1][0])[0,0],\n",
    "     (0, 100)) + \n",
    "plot(lambda E: \n",
    "     (scs.propagate(\n",
    "                E,\n",
    "                [matrix.zero(4), matrix.identity(4)],\n",
    "                s, e)[0][0][0][0]\n",
    "     - scs.propagate(\n",
    "                E-h,\n",
    "                [matrix.zero(4), matrix.identity(4)],\n",
    "                s, e)[0][0][0][0])/h,\n",
    "     (0, 100), color=\"red\"))#.show(ymin=-1, ymax=1)"
   ]
  },
  {
   "cell_type": "code",
   "execution_count": 8,
   "metadata": {
    "ExecuteTime": {
     "end_time": "2019-04-09T12:02:12.830780Z",
     "start_time": "2019-04-09T12:02:12.700480Z"
    },
    "scrolled": true
   },
   "outputs": [
    {
     "ename": "NameError",
     "evalue": "name 'error' is not defined",
     "output_type": "error",
     "traceback": [
      "\u001b[0;31m---------------------------------------------------------------------------\u001b[0m",
      "\u001b[0;31mNameError\u001b[0m                                 Traceback (most recent call last)",
      "\u001b[0;32m<ipython-input-8-76454cf1265a>\u001b[0m in \u001b[0;36m<module>\u001b[0;34m()\u001b[0m\n\u001b[0;32m----> 1\u001b[0;31m \u001b[0mlist_plot\u001b[0m\u001b[0;34m(\u001b[0m\u001b[0;34m[\u001b[0m\u001b[0;34m(\u001b[0m\u001b[0mE\u001b[0m\u001b[0;34m,\u001b[0m \u001b[0me\u001b[0m\u001b[0;34m)\u001b[0m \u001b[0;32mfor\u001b[0m \u001b[0mE\u001b[0m \u001b[0;32min\u001b[0m \u001b[0;34m(\u001b[0m\u001b[0mellipsis_range\u001b[0m\u001b[0;34m(\u001b[0m\u001b[0mInteger\u001b[0m\u001b[0;34m(\u001b[0m\u001b[0;36m0\u001b[0m\u001b[0;34m)\u001b[0m\u001b[0;34m,\u001b[0m\u001b[0mRealNumber\u001b[0m\u001b[0;34m(\u001b[0m\u001b[0;34m'0.3'\u001b[0m\u001b[0;34m)\u001b[0m \u001b[0;34m,\u001b[0m\u001b[0mEllipsis\u001b[0m\u001b[0;34m,\u001b[0m \u001b[0mInteger\u001b[0m\u001b[0;34m(\u001b[0m\u001b[0;36m100\u001b[0m\u001b[0;34m)\u001b[0m\u001b[0;34m)\u001b[0m\u001b[0;34m)\u001b[0m \u001b[0;32mfor\u001b[0m \u001b[0me\u001b[0m \u001b[0;32min\u001b[0m \u001b[0merror\u001b[0m\u001b[0;34m(\u001b[0m\u001b[0mE\u001b[0m\u001b[0;34m)\u001b[0m\u001b[0;34m]\u001b[0m\u001b[0;34m,\u001b[0m \u001b[0mymax\u001b[0m \u001b[0;34m=\u001b[0m \u001b[0mInteger\u001b[0m\u001b[0;34m(\u001b[0m\u001b[0;36m5\u001b[0m\u001b[0;34m)\u001b[0m\u001b[0;34m,\u001b[0m \u001b[0mymin\u001b[0m\u001b[0;34m=\u001b[0m\u001b[0;34m-\u001b[0m\u001b[0mInteger\u001b[0m\u001b[0;34m(\u001b[0m\u001b[0;36m5\u001b[0m\u001b[0;34m)\u001b[0m\u001b[0;34m,\u001b[0m \u001b[0mfigsize\u001b[0m\u001b[0;34m=\u001b[0m\u001b[0;34m[\u001b[0m\u001b[0mInteger\u001b[0m\u001b[0;34m(\u001b[0m\u001b[0;36m30\u001b[0m\u001b[0;34m)\u001b[0m\u001b[0;34m,\u001b[0m\u001b[0mInteger\u001b[0m\u001b[0;34m(\u001b[0m\u001b[0;36m30\u001b[0m\u001b[0;34m)\u001b[0m\u001b[0;34m]\u001b[0m\u001b[0;34m)\u001b[0m\u001b[0;34m\u001b[0m\u001b[0m\n\u001b[0m",
      "\u001b[0;31mNameError\u001b[0m: name 'error' is not defined"
     ]
    }
   ],
   "source": [
    "list_plot([(E, e) for E in [0,0.3 .. 100] for e in error(E)], ymax = 5, ymin=-5, figsize=[30,30])"
   ]
  },
  {
   "cell_type": "code",
   "execution_count": 6,
   "metadata": {
    "ExecuteTime": {
     "end_time": "2019-04-08T11:29:58.504990Z",
     "start_time": "2019-04-08T11:29:58.479921Z"
    }
   },
   "outputs": [],
   "source": [
    "def error1(E):\n",
    "    l, dl = map(matrix, scs.propagate(E, (matrix.zero(4,4), matrix.identity(4,4)), 0.1, .5)[0])\n",
    "    r, dr = map(matrix, scs.propagate(E,(matrix.zero(4,4), matrix.identity(4,4)), 1, .5)[0])\n",
    "    return det(block_matrix([[l, r], [dl, dr]]))\n",
    "\n",
    "def error2(E):\n",
    "    left = matrix(scs.propagatePsi(E, matrix.zero(4,4), 0.1,.5))\n",
    "    right = matrix(scs.propagatePsi(E, matrix.zero(4,4), 1, .5))\n",
    "    return det(left-right)"
   ]
  },
  {
   "cell_type": "code",
   "execution_count": 7,
   "metadata": {
    "ExecuteTime": {
     "end_time": "2019-04-08T11:30:01.676887Z",
     "start_time": "2019-04-08T11:29:59.069789Z"
    }
   },
   "outputs": [
    {
     "data": {
      "image/png": "[encoded data removed]",
      "text/plain": [
       "Graphics object consisting of 2 graphics primitives"
      ]
     },
     "metadata": {},
     "output_type": "display_data"
    }
   ],
   "source": [
    "(plot(error1, (14, 16)) + plot(error2, (14, 16), color=\"red\")).show(ymin=-5, ymax=5)"
   ]
  },
  {
   "cell_type": "code",
   "execution_count": 95,
   "metadata": {
    "ExecuteTime": {
     "end_time": "2018-11-05T13:14:33.931861Z",
     "start_time": "2018-11-05T13:14:33.721215Z"
    }
   },
   "outputs": [
    {
     "data": {
      "text/plain": [
       "55.7430968144823"
      ]
     },
     "execution_count": 95,
     "metadata": {},
     "output_type": "execute_result"
    }
   ],
   "source": [
    "find_root(error2, 55,56)"
   ]
  },
  {
   "cell_type": "code",
   "execution_count": null,
   "metadata": {},
   "outputs": [],
   "source": []
  },
  {
   "cell_type": "code",
   "execution_count": null,
   "metadata": {},
   "outputs": [],
   "source": []
  }
 ],
 "metadata": {
  "kernelspec": {
   "display_name": "SageMath 8.7",
   "language": "",
   "name": "sagemath"
  },
  "language_info": {
   "codemirror_mode": {
    "name": "ipython",
    "version": 2
   },
   "file_extension": ".py",
   "mimetype": "text/x-python",
   "name": "python",
   "nbconvert_exporter": "python",
   "pygments_lexer": "ipython2",
   "version": "2.7.15"
  },
  "toc": {
   "base_numbering": 1,
   "nav_menu": {},
   "number_sections": false,
   "sideBar": false,
   "skip_h1_title": false,
   "title_cell": "Table of Contents",
   "title_sidebar": "Contents",
   "toc_cell": false,
   "toc_position": {},
   "toc_section_display": false,
   "toc_window_display": false
  }
 },
 "nbformat": 4,
 "nbformat_minor": 2
}
